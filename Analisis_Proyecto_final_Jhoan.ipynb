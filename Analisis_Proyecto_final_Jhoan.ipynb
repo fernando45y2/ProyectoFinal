{
  "nbformat": 4,
  "nbformat_minor": 0,
  "metadata": {
    "colab": {
      "provenance": [],
      "include_colab_link": true
    },
    "kernelspec": {
      "name": "python3",
      "display_name": "Python 3"
    },
    "language_info": {
      "name": "python"
    }
  },
  "cells": [
    {
      "cell_type": "markdown",
      "metadata": {
        "id": "view-in-github",
        "colab_type": "text"
      },
      "source": [
        "<a href=\"https://colab.research.google.com/github/fernando45y2/ProyectoFinal/blob/main/Analisis_Proyecto_final_Jhoan.ipynb\" target=\"_parent\"><img src=\"https://colab.research.google.com/assets/colab-badge.svg\" alt=\"Open In Colab\"/></a>"
      ]
    },
    {
      "cell_type": "code",
      "execution_count": null,
      "metadata": {
        "id": "yWRwTWjc-0ra"
      },
      "outputs": [],
      "source": [
        "import re\n",
        "import pandas as pd"
      ]
    },
    {
      "cell_type": "code",
      "source": [
        "products = pd.read_csv(\"https://raw.githubusercontent.com/it-ces/Rules-puj/main/products.csv\")\n",
        "\n",
        "#Se crea un campo nuevo y al campo product_name se le realiza un replace\n",
        "products['product_name'] = products['product_name'].replace(to_replace=\"[^a-z\\dA-Z \\s+ ]\", value=\"~\", regex=True)\n",
        "#verificamos que este limpio el campos product_name de acuerdo a el replace que hicimos anteriormente\n",
        "products['product_name']\n",
        "\n",
        "#llamamos la base de datos order_products_train\n",
        "order_products_train = pd.read_csv(\"https://raw.githubusercontent.com/it-ces/Rules-puj/main/order_products__train.csv\")\n",
        "\n",
        "#en la varible full se guarda la relacion de las dos tablas\n",
        "full = order_products_train.merge(products, on='product_id',how='outer', indicator=True)\n",
        "full\n",
        "\n",
        "# se restablecer el índice del campo _merge cuando sea igaul a  both\n",
        "full =full[full['_merge']=='both'].reset_index(drop=True)\n",
        "\n",
        "#organiza el campo order_id en orden ascendente\n",
        "full =full.sort_values('order_id')\n",
        "full\n",
        "#consulta un registro sobre la tabla full solo obteniendo el la factura 1.0\n",
        "order1 = full[full['order_id'] == 1.0]\n",
        "order1\n",
        "\n",
        "#Se crea un varibale transactions donde nos trae el numero de factura y los productos asociados a cada factura\n",
        "transactions ={}\n",
        "for iden in full['order_id'].unique():\n",
        "    transactions[iden]=[]\n",
        "for index in full.index:\n",
        "    transactions[full.loc[index,'order_id']].append(full.loc[index,'product_name'])\n",
        "\n",
        "data = []\n",
        "for t in transactions:\n",
        "    data.append(transactions[t])\n",
        "\n",
        "\n",
        "#Genera un informe de la data trasformada en un archivo delimitado por coma csv\n",
        "with open('TransactionsInstacart.csv','w') as f:\n",
        "    for transaction in data:\n",
        "        for item in transaction:\n",
        "            f.write(str(item) + ',')\n",
        "        f.write('\\n')\n",
        "\n"
      ],
      "metadata": {
        "id": "fZuS3H3e_rO5"
      },
      "execution_count": null,
      "outputs": []
    },
    {
      "cell_type": "code",
      "source": [
        "# Cargar la extensión rpy2.ipython en IPython\n",
        "%load_ext rpy2.ipython"
      ],
      "metadata": {
        "id": "4aIvPfh3HVSd",
        "colab": {
          "base_uri": "https://localhost:8080/"
        },
        "outputId": "48c2007e-d424-4d51-ed9e-50a2d78baf98"
      },
      "execution_count": null,
      "outputs": [
        {
          "output_type": "stream",
          "name": "stdout",
          "text": [
            "The rpy2.ipython extension is already loaded. To reload it, use:\n",
            "  %reload_ext rpy2.ipython\n"
          ]
        }
      ]
    },
    {
      "cell_type": "code",
      "source": [
        "# Ejecutar código R en la celda utilizando la celda mágica %%R\n",
        "# Instalar el paquete \"arules\" en R para análisis de reglas de asociación\n",
        "%%R\n",
        "install.packages(\"arules\")"
      ],
      "metadata": {
        "colab": {
          "base_uri": "https://localhost:8080/"
        },
        "id": "wb_oC_uRZlE3",
        "outputId": "9cda5c07-b429-4030-f532-04a1ade8076c"
      },
      "execution_count": null,
      "outputs": [
        {
          "output_type": "stream",
          "name": "stderr",
          "text": [
            "WARNING:rpy2.rinterface_lib.callbacks:R[write to console]: Installing package into ‘/usr/local/lib/R/site-library’\n",
            "(as ‘lib’ is unspecified)\n",
            "\n",
            "WARNING:rpy2.rinterface_lib.callbacks:R[write to console]: trying URL 'https://cran.rstudio.com/src/contrib/arules_1.7-6.tar.gz'\n",
            "\n",
            "WARNING:rpy2.rinterface_lib.callbacks:R[write to console]: Content type 'application/x-gzip'\n",
            "WARNING:rpy2.rinterface_lib.callbacks:R[write to console]:  length 1394585 bytes (1.3 MB)\n",
            "\n",
            "WARNING:rpy2.rinterface_lib.callbacks:R[write to console]: =\n",
            "WARNING:rpy2.rinterface_lib.callbacks:R[write to console]: =\n",
            "WARNING:rpy2.rinterface_lib.callbacks:R[write to console]: =\n",
            "WARNING:rpy2.rinterface_lib.callbacks:R[write to console]: =\n",
            "WARNING:rpy2.rinterface_lib.callbacks:R[write to console]: =\n",
            "WARNING:rpy2.rinterface_lib.callbacks:R[write to console]: =\n",
            "WARNING:rpy2.rinterface_lib.callbacks:R[write to console]: =\n",
            "WARNING:rpy2.rinterface_lib.callbacks:R[write to console]: =\n",
            "WARNING:rpy2.rinterface_lib.callbacks:R[write to console]: =\n",
            "WARNING:rpy2.rinterface_lib.callbacks:R[write to console]: =\n",
            "WARNING:rpy2.rinterface_lib.callbacks:R[write to console]: =\n",
            "WARNING:rpy2.rinterface_lib.callbacks:R[write to console]: =\n",
            "WARNING:rpy2.rinterface_lib.callbacks:R[write to console]: =\n",
            "WARNING:rpy2.rinterface_lib.callbacks:R[write to console]: =\n",
            "WARNING:rpy2.rinterface_lib.callbacks:R[write to console]: =\n",
            "WARNING:rpy2.rinterface_lib.callbacks:R[write to console]: =\n",
            "WARNING:rpy2.rinterface_lib.callbacks:R[write to console]: =\n",
            "WARNING:rpy2.rinterface_lib.callbacks:R[write to console]: =\n",
            "WARNING:rpy2.rinterface_lib.callbacks:R[write to console]: =\n",
            "WARNING:rpy2.rinterface_lib.callbacks:R[write to console]: =\n",
            "WARNING:rpy2.rinterface_lib.callbacks:R[write to console]: =\n",
            "WARNING:rpy2.rinterface_lib.callbacks:R[write to console]: =\n",
            "WARNING:rpy2.rinterface_lib.callbacks:R[write to console]: =\n",
            "WARNING:rpy2.rinterface_lib.callbacks:R[write to console]: =\n",
            "WARNING:rpy2.rinterface_lib.callbacks:R[write to console]: =\n",
            "WARNING:rpy2.rinterface_lib.callbacks:R[write to console]: =\n",
            "WARNING:rpy2.rinterface_lib.callbacks:R[write to console]: =\n",
            "WARNING:rpy2.rinterface_lib.callbacks:R[write to console]: =\n",
            "WARNING:rpy2.rinterface_lib.callbacks:R[write to console]: =\n",
            "WARNING:rpy2.rinterface_lib.callbacks:R[write to console]: =\n",
            "WARNING:rpy2.rinterface_lib.callbacks:R[write to console]: =\n",
            "WARNING:rpy2.rinterface_lib.callbacks:R[write to console]: =\n",
            "WARNING:rpy2.rinterface_lib.callbacks:R[write to console]: =\n",
            "WARNING:rpy2.rinterface_lib.callbacks:R[write to console]: =\n",
            "WARNING:rpy2.rinterface_lib.callbacks:R[write to console]: =\n",
            "WARNING:rpy2.rinterface_lib.callbacks:R[write to console]: =\n",
            "WARNING:rpy2.rinterface_lib.callbacks:R[write to console]: =\n",
            "WARNING:rpy2.rinterface_lib.callbacks:R[write to console]: =\n",
            "WARNING:rpy2.rinterface_lib.callbacks:R[write to console]: =\n",
            "WARNING:rpy2.rinterface_lib.callbacks:R[write to console]: =\n",
            "WARNING:rpy2.rinterface_lib.callbacks:R[write to console]: =\n",
            "WARNING:rpy2.rinterface_lib.callbacks:R[write to console]: =\n",
            "WARNING:rpy2.rinterface_lib.callbacks:R[write to console]: =\n",
            "WARNING:rpy2.rinterface_lib.callbacks:R[write to console]: =\n",
            "WARNING:rpy2.rinterface_lib.callbacks:R[write to console]: =\n",
            "WARNING:rpy2.rinterface_lib.callbacks:R[write to console]: =\n",
            "WARNING:rpy2.rinterface_lib.callbacks:R[write to console]: =\n",
            "WARNING:rpy2.rinterface_lib.callbacks:R[write to console]: =\n",
            "WARNING:rpy2.rinterface_lib.callbacks:R[write to console]: =\n",
            "WARNING:rpy2.rinterface_lib.callbacks:R[write to console]: =\n",
            "WARNING:rpy2.rinterface_lib.callbacks:R[write to console]: \n",
            "\n",
            "WARNING:rpy2.rinterface_lib.callbacks:R[write to console]: downloaded 1.3 MB\n",
            "\n",
            "\n",
            "WARNING:rpy2.rinterface_lib.callbacks:R[write to console]: \n",
            "\n",
            "WARNING:rpy2.rinterface_lib.callbacks:R[write to console]: \n",
            "WARNING:rpy2.rinterface_lib.callbacks:R[write to console]: The downloaded source packages are in\n",
            "\t‘/tmp/RtmplLpgOz/downloaded_packages’\n",
            "WARNING:rpy2.rinterface_lib.callbacks:R[write to console]: \n",
            "WARNING:rpy2.rinterface_lib.callbacks:R[write to console]: \n",
            "\n"
          ]
        }
      ]
    },
    {
      "cell_type": "code",
      "source": [
        "# Ejecutar código R en la celda utilizando la celda mágica %%R\n",
        "# Cargar la librería \"arules\" en R para análisis de reglas de asociación\n",
        "%%R\n",
        "library(\"arules\")"
      ],
      "metadata": {
        "id": "ymr6p2TXZlBy"
      },
      "execution_count": null,
      "outputs": []
    },
    {
      "cell_type": "code",
      "source": [
        "# Ejecutar código R en la celda utilizando la celda mágica %%R\n",
        "# Leer transacciones desde el archivo CSV 'TransactionsInstacart.csv'\n",
        "# y almacenarlas en el objeto \"baskets\" utilizando la función read.transactions()\n",
        "%%R\n",
        "baskets <- read.transactions('TransactionsInstacart.csv', sep=',')"
      ],
      "metadata": {
        "id": "9c-r_SbkZk9x"
      },
      "execution_count": null,
      "outputs": []
    },
    {
      "cell_type": "code",
      "source": [
        "# Ejecutar código R en la celda utilizando la celda mágica %%R\n",
        "# Generar un gráfico de frecuencia de elementos utilizando la función itemFrequencyPlot()\n",
        "# del paquete \"arules\" con un umbral de soporte (support) de 0.055\n",
        "# (esto se refiere al mínimo soporte para mostrar los elementos)\n",
        "%%R\n",
        "itemFrequencyPlot(baskets,support=0.055)  #minsuport\n",
        "# we can uses topN=# to see the more"
      ],
      "metadata": {
        "colab": {
          "base_uri": "https://localhost:8080/",
          "height": 497
        },
        "id": "-lTHWM1jZk2k",
        "outputId": "838cccdd-5729-434a-b667-51d401374df1"
      },
      "execution_count": null,
      "outputs": [
        {
          "output_type": "display_data",
          "data": {
            "image/png": "[encoded data removed]"
          },
          "metadata": {}
        }
      ]
    },
    {
      "cell_type": "code",
      "source": [
        "# Crear un DataFrame en pandas llamado \"counter\"\n",
        "# que almacena la longitud de cada elemento en la lista \"data\"\n",
        "# La longitud de cada transacción se refiere a la cantidad de elementos en esa transacción\n",
        "counter = pd.DataFrame([len(T) for T in data], columns=['k-itemset'])"
      ],
      "metadata": {
        "id": "M74MyCtLZknR"
      },
      "execution_count": null,
      "outputs": []
    },
    {
      "cell_type": "code",
      "source": [
        "# Crear un nuevo DataFrame en pandas llamado \"to_testing\"\n",
        "# a partir de los conteos y la clasificación de las longitudes de elementos\n",
        "# almacenados en el DataFrame \"counter\"\n",
        "to_testing = pd.DataFrame(counter['k-itemset'].value_counts().sort_index())"
      ],
      "metadata": {
        "id": "xd0Kj-XuZumL"
      },
      "execution_count": null,
      "outputs": []
    },
    {
      "cell_type": "code",
      "source": [
        "# Calcular la suma total de los valores en la columna 'k-itemset' del DataFrame \"to_testing\"\n",
        "to_testing['k-itemset'].sum()"
      ],
      "metadata": {
        "colab": {
          "base_uri": "https://localhost:8080/"
        },
        "id": "niZTBBTkZujT",
        "outputId": "ea499248-9dbc-4e59-cb35-489e9d0e9828"
      },
      "execution_count": null,
      "outputs": [
        {
          "output_type": "execute_result",
          "data": {
            "text/plain": [
              "131209"
            ]
          },
          "metadata": {},
          "execution_count": 28
        }
      ]
    },
    {
      "cell_type": "code",
      "source": [
        "# Calcular la suma acumulativa de los valores en la columna 'k-itemset' del DataFrame \"to_testing\"\n",
        "# y guardar los resultados en un archivo Excel llamado 'cumulativedistribution.xlsx'\n",
        "to_testing[['k-itemset']].cumsum().to_excel('cumulativedistribution.xlsx')"
      ],
      "metadata": {
        "id": "BlqKKK3bZug3"
      },
      "execution_count": null,
      "outputs": []
    },
    {
      "cell_type": "code",
      "source": [
        "# Contar los valores únicos en la columna 'k-itemset' del DataFrame \"to_testing\"\n",
        "# y mostrar la frecuencia de cada valor\n",
        "to_testing['k-itemset'].value_counts()"
      ],
      "metadata": {
        "colab": {
          "base_uri": "https://localhost:8080/"
        },
        "id": "CNxfMNBjZueo",
        "outputId": "9eb330e0-94b6-4515-a63d-be064ab060b3"
      },
      "execution_count": null,
      "outputs": [
        {
          "output_type": "execute_result",
          "data": {
            "text/plain": [
              "2      6\n",
              "1      3\n",
              "3      3\n",
              "4      3\n",
              "5      2\n",
              "      ..\n",
              "860    1\n",
              "679    1\n",
              "634    1\n",
              "553    1\n",
              "403    1\n",
              "Name: k-itemset, Length: 63, dtype: int64"
            ]
          },
          "metadata": {},
          "execution_count": 30
        }
      ]
    },
    {
      "cell_type": "code",
      "source": [
        "# Leer los datos del archivo Excel 'cumulativedistribution.xlsx' y almacenarlos en el DataFrame \"cumsum\"\n",
        "cumsum = pd.read_excel('cumulativedistribution.xlsx')\n",
        "\n",
        "# Crear un gráfico de barras utilizando los datos de la columna 'k-itemset' del DataFrame \"cumsum\"\n",
        "# para las filas del índice 1 al 15 (inclusive)\n",
        "cumsum[1:16]['k-itemset'].plot(kind='bar')"
      ],
      "metadata": {
        "colab": {
          "base_uri": "https://localhost:8080/",
          "height": 451
        },
        "id": "uWowezJmZuam",
        "outputId": "50e1ced1-94eb-4fc4-aef7-5c2be71970ee"
      },
      "execution_count": null,
      "outputs": [
        {
          "output_type": "execute_result",
          "data": {
            "text/plain": [
              "<Axes: >"
            ]
          },
          "metadata": {},
          "execution_count": 31
        },
        {
          "output_type": "display_data",
          "data": {
            "text/plain": [
              "<Figure size 640x480 with 1 Axes>"
            ],
            "image/png": "[encoded data removed]"
          },
          "metadata": {}
        }
      ]
    },
    {
      "cell_type": "code",
      "source": [
        "# Crear un gráfico de barras utilizando los datos de la columna 'k-itemset' del DataFrame \"cumsum\"\n",
        "# para las filas del índice 1 al 15 (inclusive)\n",
        "cumsum[1:16]['k-itemset'].plot(kind='bar')"
      ],
      "metadata": {
        "colab": {
          "base_uri": "https://localhost:8080/",
          "height": 451
        },
        "id": "pxJ8azGQZ4ZR",
        "outputId": "70e09e51-3a2c-4695-fb20-cf2c844e2a93"
      },
      "execution_count": null,
      "outputs": [
        {
          "output_type": "execute_result",
          "data": {
            "text/plain": [
              "<Axes: >"
            ]
          },
          "metadata": {},
          "execution_count": 32
        },
        {
          "output_type": "display_data",
          "data": {
            "text/plain": [
              "<Figure size 640x480 with 1 Axes>"
            ],
            "image/png": "[encoded data removed]"
          },
          "metadata": {}
        }
      ]
    },
    {
      "cell_type": "code",
      "source": [
        "# Ejecutar código R en la celda utilizando la celda mágica %%R\n",
        "# Generar un gráfico de frecuencia de elementos utilizando la función itemFrequencyPlot()\n",
        "# del paquete \"arules\" con un umbral de soporte (support) de 0.02 (minsupport)\n",
        "# Muestra la frecuencia de los productos en las transacciones, la variable basket se refiere al objeto que contiene las transacciones\n",
        "%%R\n",
        "itemFrequencyPlot(baskets, support=0.04)  # support mínimo (minsupport)"
      ],
      "metadata": {
        "colab": {
          "base_uri": "https://localhost:8080/",
          "height": 497
        },
        "id": "BGYA5qZcZ8kj",
        "outputId": "f47706c1-580a-4f97-c84f-7ac2c2b2e450"
      },
      "execution_count": null,
      "outputs": [
        {
          "output_type": "display_data",
          "data": {
            "image/png": "[encoded data removed]"
          },
          "metadata": {}
        }
      ]
    },
    {
      "cell_type": "code",
      "source": [
        "# Ejecutar código R en la celda utilizando la celda mágica %%R\n",
        "# Aplicar el algoritmo Apriori a las transacciones almacenadas en el objeto \"baskets\"\n",
        "# Establecer los parámetros de soporte, confianza, longitud mínima y longitud máxima de las reglas\n",
        "# Los resultados se almacenan en el objeto \"Rules\"\n",
        "%%R\n",
        "Rules <- apriori(baskets, parameter=list(support=0.001, confidence=0.3, minlen=2, maxlen=15))\n",
        "\n",
        "# Ordenar las reglas resultantes por la medida \"lift\"\n",
        "# Los resultados se almacenan en el objeto \"rulesordered\"\n",
        "rulesordered <- sort(Rules, by = \"lift\")\n",
        "\n",
        "# Inspeccionar y mostrar las reglas ordenadas en orden ascendente\n",
        "inspect(rulesordered)"
      ],
      "metadata": {
        "id": "OXZjg8Y3huxZ"
      },
      "execution_count": null,
      "outputs": []
    },
    {
      "cell_type": "code",
      "source": [
        "# Ejecutar código R en la celda utilizando la celda mágica %%R\n",
        "# Escribir las reglas de asociación obtenidas del algoritmo Apriori en un archivo CSV\n",
        "# El archivo se llama \"rulesdatabase.csv\"\n",
        "# Se establecen los parámetros de separador (sep), uso de comillas (quote),\n",
        "# y no incluir los nombres de las filas (row.names) en el archivo\n",
        "%%R\n",
        "write(Rules,\n",
        "      file = \"rulesdatabase.csv\",\n",
        "      sep = \",\",\n",
        "      quote = TRUE,\n",
        "      row.names = FALSE)"
      ],
      "metadata": {
        "id": "Ce23-D4bhuu3"
      },
      "execution_count": null,
      "outputs": []
    },
    {
      "cell_type": "code",
      "source": [
        "# Leer los datos del archivo CSV \"rulesdatabase.csv\" utilizando pandas\n",
        "# Almacenar los datos en un DataFrame llamado \"pyrules\"\n",
        "pyrules = pd.read_csv(\"rulesdatabase.csv\", sep=',')\n"
      ],
      "metadata": {
        "id": "RAJK6RmchusO"
      },
      "execution_count": null,
      "outputs": []
    },
    {
      "cell_type": "code",
      "source": [
        "# Ordenar las filas del DataFrame \"pyrules\" en función de la columna 'lift'\n",
        "# en orden descendente y aplicar el cambio directamente al DataFrame (inplace=True)\n",
        "pyrules.sort_values(by=['lift'], ascending=False, inplace=True)\n"
      ],
      "metadata": {
        "id": "rrxIh2nxhunC"
      },
      "execution_count": null,
      "outputs": []
    },
    {
      "cell_type": "code",
      "source": [
        "# Restablecer los índices de las filas del DataFrame \"pyrules\"\n",
        "# después de ordenarlas y aplicar el cambio directamente al DataFrame (inplace=True)\n",
        "pyrules.reset_index(inplace=True)"
      ],
      "metadata": {
        "id": "3wvp9JIFhukc"
      },
      "execution_count": null,
      "outputs": []
    },
    {
      "cell_type": "code",
      "source": [
        "# Exportar los datos del DataFrame \"pyrules\" a un archivo de Excel llamado \"rules.xlsx\"\n",
        "pyrules.to_excel(\"rules.xlsx\")"
      ],
      "metadata": {
        "id": "i14hr5VClSOW"
      },
      "execution_count": null,
      "outputs": []
    },
    {
      "cell_type": "code",
      "source": [
        "# Obtener la longitud (cantidad de elementos) de la lista \"data\"\n",
        "len(data)\n"
      ],
      "metadata": {
        "id": "87fa5xSAlSH9",
        "outputId": "89946591-1102-49ae-a9b3-cb8ba5de3c05",
        "colab": {
          "base_uri": "https://localhost:8080/"
        }
      },
      "execution_count": null,
      "outputs": [
        {
          "output_type": "execute_result",
          "data": {
            "text/plain": [
              "131209"
            ]
          },
          "metadata": {},
          "execution_count": 41
        }
      ]
    },
    {
      "cell_type": "code",
      "source": [
        "# Referencia al objeto \"pyrules\", que podría ser un DataFrame que contiene las reglas de asociación\n",
        "pyrules\n"
      ],
      "metadata": {
        "id": "08wjdu77huB0"
      },
      "execution_count": null,
      "outputs": []
    },
    {
      "cell_type": "code",
      "source": [
        "# Ejecuta toda la base de datos con los resultados transformados\n",
        "data"
      ],
      "metadata": {
        "id": "JT7FphMTljuz"
      },
      "execution_count": null,
      "outputs": []
    },
    {
      "cell_type": "code",
      "source": [
        "# Referencia al objeto \"order_products_train\", que podría ser un DataFrame que contiene información sobre los productos y pedidos\n",
        "order_products_train\n"
      ],
      "metadata": {
        "id": "LduJq0A2lkIX"
      },
      "execution_count": null,
      "outputs": []
    },
    {
      "cell_type": "code",
      "source": [
        "# Se inicializa un diccionario vacío para almacenar las transacciones (órdenes) y los productos asociados.\n",
        "transactions = {}\n",
        "\n",
        "# Se itera a través de los valores únicos de la columna 'order_id' en el DataFrame order_products_train.\n",
        "# Se crea una entrada en el diccionario transactions para cada order_id, con una lista vacía como valor inicial.\n",
        "for iden in order_products_train['order_id'].unique():\n",
        "    transactions[iden] = []\n",
        "\n",
        "# Se itera a través de los índices del DataFrame order_products_train.\n",
        "# Para cada índice, se obtiene el 'order_id' y 'product_id' asociados a ese índice.\n",
        "# Luego, se agrega el 'product_id' a la lista correspondiente en el diccionario transactions.\n",
        "for index in order_products_train.index:\n",
        "    transactions[order_products_train.loc[index, 'order_id']].append(order_products_train.loc[index, 'product_id'])\n",
        "\n",
        "# Se crea una lista vacía llamada data para almacenar las listas de productos por transacción.\n",
        "data = []\n",
        "\n",
        "# Se itera a través de las claves del diccionario transactions (que son los 'order_id').\n",
        "# Para cada order_id, se agrega la lista de productos asociados a esa orden al final de la lista data.\n",
        "for t in transactions:\n",
        "    data.append(transactions[t])\n"
      ],
      "metadata": {
        "id": "tm868hPlmI0x"
      },
      "execution_count": null,
      "outputs": []
    },
    {
      "cell_type": "code",
      "source": [
        "data"
      ],
      "metadata": {
        "id": "nQ0Oq_yjmIuO"
      },
      "execution_count": null,
      "outputs": []
    },
    {
      "cell_type": "code",
      "source": [
        "# Se abre un archivo llamado 'Twithproduct.csv' en modo de escritura ('w').\n",
        "# El archivo se abrirá o creará en caso de no existir. Se utilizará para almacenar datos procesados.\n",
        "\n",
        "with open('Twithproduct.csv', 'w') as f:\n",
        "    # Se itera a través de cada transacción en la lista de datos.\n",
        "    for transaction in data:\n",
        "        # Se itera a través de cada elemento (producto) en la transacción actual.\n",
        "        for item in transaction:\n",
        "            # Se escribe el elemento convertido en una cadena, seguido de una coma.\n",
        "            f.write(str(item) + ',')\n",
        "\n",
        "        # Después de escribir todos los elementos de la transacción actual, se agrega una nueva línea.\n",
        "        f.write('\\n')\n",
        "\n",
        "# Al finalizar el bloque with, se cierra automáticamente el archivo.\n"
      ],
      "metadata": {
        "id": "AHGGAOnAmIo5"
      },
      "execution_count": null,
      "outputs": []
    },
    {
      "cell_type": "code",
      "source": [
        "%%R\n",
        "# Este encabezado \"%%R\" sugiere que el código está siendo ejecutado en un entorno de celdas R en un entorno como Jupyter Notebook.\n",
        "\n",
        "# Se lee el archivo 'Twithproduct.csv' y se carga en una estructura de datos llamada 'basketsT'.\n",
        "# 'read.transactions' es una función del paquete 'arules' en R que se utiliza para leer datos de transacciones.\n",
        "\n",
        "basketsT <- read.transactions('Twithproduct.csv', sep=',')\n"
      ],
      "metadata": {
        "id": "KmbB_KPsmIgl"
      },
      "execution_count": null,
      "outputs": []
    },
    {
      "cell_type": "code",
      "source": [
        "%%R\n",
        "# Este encabezado \"%%R\" indica que el código se está ejecutando en un entorno de celdas R en, por ejemplo, Jupyter Notebook.\n",
        "\n",
        "# Se ejecuta el algoritmo Apriori sobre las transacciones almacenadas en la variable 'basketsT'.\n",
        "# El parámetro 'parameter' se utiliza para configurar los parámetros del algoritmo.\n",
        "\n",
        "# Se establece el soporte mínimo, la confianza mínima, la longitud mínima y la longitud máxima para las reglas generadas.\n",
        "Rules <- apriori(basketsT, parameter=list(support=0.001, confidence=0.3, minlen=2, maxlen=15))\n",
        "\n",
        "# Se ordenan las reglas generadas por la métrica \"lift\" en orden descendente.\n",
        "rulesordered <- sort(Rules, by = \"lift\")\n",
        "\n",
        "# Se inspeccionan las reglas generadas, lo que puede incluir ver sus antecedentes, consecuentes y métricas asociadas.\n",
        "inspect(rulesordered)\n"
      ],
      "metadata": {
        "id": "6VWWx_HWmidl"
      },
      "execution_count": null,
      "outputs": []
    },
    {
      "cell_type": "code",
      "source": [
        "\n",
        "# Se crea un DataFrame llamado 'data' con una columna llamada 'products' que contiene valores de productos.\n",
        "data = pd.DataFrame({'products': ['mang,`o12!', 'papay41!qa', 'frutao_.__.\\nh', '1,a3,5;']})\n"
      ],
      "metadata": {
        "id": "VK8_OQKwmiVK"
      },
      "execution_count": null,
      "outputs": []
    },
    {
      "cell_type": "code",
      "source": [
        "# Se crea un nuevo data frame\n",
        "data = pd.DataFrame({'products':['mang,`o12!', 'papay41!qa', 'frutao_.__.\\nh', '1,a3,5;']})"
      ],
      "metadata": {
        "id": "yAzo2g7Xo6S6"
      },
      "execution_count": null,
      "outputs": []
    },
    {
      "cell_type": "code",
      "source": [
        "#Utilizando una expresion rregurar se realiza limpieza de la data\n",
        "data.replace(to_replace=\"[^A-Za-z\\d]\", value=\"~\", regex=True)"
      ],
      "metadata": {
        "id": "oM8s_kQXqKSO",
        "outputId": "ec8d7b9b-5e66-4e1a-a5b4-454809a58a2d",
        "colab": {
          "base_uri": "https://localhost:8080/",
          "height": 174
        }
      },
      "execution_count": null,
      "outputs": [
        {
          "output_type": "execute_result",
          "data": {
            "text/plain": [
              "        products\n",
              "0     mang~~o12~\n",
              "1     papay41~qa\n",
              "2  frutao~~~~~~h\n",
              "3        1~a3~5~"
            ],
            "text/html": [
              "\n",
              "  <div id=\"df-970b6a5e-7dc9-40ed-8f4c-a1c5e419489f\" class=\"colab-df-container\">\n",
              "    <div>\n",
              "<style scoped>\n",
              "    .dataframe tbody tr th:only-of-type {\n",
              "        vertical-align: middle;\n",
              "    }\n",
              "\n",
              "    .dataframe tbody tr th {\n",
              "        vertical-align: top;\n",
              "    }\n",
              "\n",
              "    .dataframe thead th {\n",
              "        text-align: right;\n",
              "    }\n",
              "</style>\n",
              "<table border=\"1\" class=\"dataframe\">\n",
              "  <thead>\n",
              "    <tr style=\"text-align: right;\">\n",
              "      <th></th>\n",
              "      <th>products</th>\n",
              "    </tr>\n",
              "  </thead>\n",
              "  <tbody>\n",
              "    <tr>\n",
              "      <th>0</th>\n",
              "      <td>mang~~o12~</td>\n",
              "    </tr>\n",
              "    <tr>\n",
              "      <th>1</th>\n",
              "      <td>papay41~qa</td>\n",
              "    </tr>\n",
              "    <tr>\n",
              "      <th>2</th>\n",
              "      <td>frutao~~~~~~h</td>\n",
              "    </tr>\n",
              "    <tr>\n",
              "      <th>3</th>\n",
              "      <td>1~a3~5~</td>\n",
              "    </tr>\n",
              "  </tbody>\n",
              "</table>\n",
              "</div>\n",
              "    <div class=\"colab-df-buttons\">\n",
              "\n",
              "  <div class=\"colab-df-container\">\n",
              "    <button class=\"colab-df-convert\" onclick=\"convertToInteractive('df-970b6a5e-7dc9-40ed-8f4c-a1c5e419489f')\"\n",
              "            title=\"Convert this dataframe to an interactive table.\"\n",
              "            style=\"display:none;\">\n",
              "\n",
              "  <svg xmlns=\"http://www.w3.org/2000/svg\" height=\"24px\" viewBox=\"0 -960 960 960\">\n",
              "    <path d=\"M120-120v-720h720v720H120Zm60-500h600v-160H180v160Zm220 220h160v-160H400v160Zm0 220h160v-160H400v160ZM180-400h160v-160H180v160Zm440 0h160v-160H620v160ZM180-180h160v-160H180v160Zm440 0h160v-160H620v160Z\"/>\n",
              "  </svg>\n",
              "    </button>\n",
              "\n",
              "  <style>\n",
              "    .colab-df-container {\n",
              "      display:flex;\n",
              "      gap: 12px;\n",
              "    }\n",
              "\n",
              "    .colab-df-convert {\n",
              "      background-color: #E8F0FE;\n",
              "      border: none;\n",
              "      border-radius: 50%;\n",
              "      cursor: pointer;\n",
              "      display: none;\n",
              "      fill: #1967D2;\n",
              "      height: 32px;\n",
              "      padding: 0 0 0 0;\n",
              "      width: 32px;\n",
              "    }\n",
              "\n",
              "    .colab-df-convert:hover {\n",
              "      background-color: #E2EBFA;\n",
              "      box-shadow: 0px 1px 2px rgba(60, 64, 67, 0.3), 0px 1px 3px 1px rgba(60, 64, 67, 0.15);\n",
              "      fill: #174EA6;\n",
              "    }\n",
              "\n",
              "    .colab-df-buttons div {\n",
              "      margin-bottom: 4px;\n",
              "    }\n",
              "\n",
              "    [theme=dark] .colab-df-convert {\n",
              "      background-color: #3B4455;\n",
              "      fill: #D2E3FC;\n",
              "    }\n",
              "\n",
              "    [theme=dark] .colab-df-convert:hover {\n",
              "      background-color: #434B5C;\n",
              "      box-shadow: 0px 1px 3px 1px rgba(0, 0, 0, 0.15);\n",
              "      filter: drop-shadow(0px 1px 2px rgba(0, 0, 0, 0.3));\n",
              "      fill: #FFFFFF;\n",
              "    }\n",
              "  </style>\n",
              "\n",
              "    <script>\n",
              "      const buttonEl =\n",
              "        document.querySelector('#df-970b6a5e-7dc9-40ed-8f4c-a1c5e419489f button.colab-df-convert');\n",
              "      buttonEl.style.display =\n",
              "        google.colab.kernel.accessAllowed ? 'block' : 'none';\n",
              "\n",
              "      async function convertToInteractive(key) {\n",
              "        const element = document.querySelector('#df-970b6a5e-7dc9-40ed-8f4c-a1c5e419489f');\n",
              "        const dataTable =\n",
              "          await google.colab.kernel.invokeFunction('convertToInteractive',\n",
              "                                                    [key], {});\n",
              "        if (!dataTable) return;\n",
              "\n",
              "        const docLinkHtml = 'Like what you see? Visit the ' +\n",
              "          '<a target=\"_blank\" href=https://colab.research.google.com/notebooks/data_table.ipynb>data table notebook</a>'\n",
              "          + ' to learn more about interactive tables.';\n",
              "        element.innerHTML = '';\n",
              "        dataTable['output_type'] = 'display_data';\n",
              "        await google.colab.output.renderOutput(dataTable, element);\n",
              "        const docLink = document.createElement('div');\n",
              "        docLink.innerHTML = docLinkHtml;\n",
              "        element.appendChild(docLink);\n",
              "      }\n",
              "    </script>\n",
              "  </div>\n",
              "\n",
              "\n",
              "<div id=\"df-777eebd3-e230-458d-b38d-52bc226aafd6\">\n",
              "  <button class=\"colab-df-quickchart\" onclick=\"quickchart('df-777eebd3-e230-458d-b38d-52bc226aafd6')\"\n",
              "            title=\"Suggest charts.\"\n",
              "            style=\"display:none;\">\n",
              "\n",
              "<svg xmlns=\"http://www.w3.org/2000/svg\" height=\"24px\"viewBox=\"0 0 24 24\"\n",
              "     width=\"24px\">\n",
              "    <g>\n",
              "        <path d=\"M19 3H5c-1.1 0-2 .9-2 2v14c0 1.1.9 2 2 2h14c1.1 0 2-.9 2-2V5c0-1.1-.9-2-2-2zM9 17H7v-7h2v7zm4 0h-2V7h2v10zm4 0h-2v-4h2v4z\"/>\n",
              "    </g>\n",
              "</svg>\n",
              "  </button>\n",
              "\n",
              "<style>\n",
              "  .colab-df-quickchart {\n",
              "    background-color: #E8F0FE;\n",
              "    border: none;\n",
              "    border-radius: 50%;\n",
              "    cursor: pointer;\n",
              "    display: none;\n",
              "    fill: #1967D2;\n",
              "    height: 32px;\n",
              "    padding: 0 0 0 0;\n",
              "    width: 32px;\n",
              "  }\n",
              "\n",
              "  .colab-df-quickchart:hover {\n",
              "    background-color: #E2EBFA;\n",
              "    box-shadow: 0px 1px 2px rgba(60, 64, 67, 0.3), 0px 1px 3px 1px rgba(60, 64, 67, 0.15);\n",
              "    fill: #174EA6;\n",
              "  }\n",
              "\n",
              "  [theme=dark] .colab-df-quickchart {\n",
              "    background-color: #3B4455;\n",
              "    fill: #D2E3FC;\n",
              "  }\n",
              "\n",
              "  [theme=dark] .colab-df-quickchart:hover {\n",
              "    background-color: #434B5C;\n",
              "    box-shadow: 0px 1px 3px 1px rgba(0, 0, 0, 0.15);\n",
              "    filter: drop-shadow(0px 1px 2px rgba(0, 0, 0, 0.3));\n",
              "    fill: #FFFFFF;\n",
              "  }\n",
              "</style>\n",
              "\n",
              "  <script>\n",
              "    async function quickchart(key) {\n",
              "      const charts = await google.colab.kernel.invokeFunction(\n",
              "          'suggestCharts', [key], {});\n",
              "    }\n",
              "    (() => {\n",
              "      let quickchartButtonEl =\n",
              "        document.querySelector('#df-777eebd3-e230-458d-b38d-52bc226aafd6 button');\n",
              "      quickchartButtonEl.style.display =\n",
              "        google.colab.kernel.accessAllowed ? 'block' : 'none';\n",
              "    })();\n",
              "  </script>\n",
              "</div>\n",
              "    </div>\n",
              "  </div>\n"
            ]
          },
          "metadata": {},
          "execution_count": 44
        }
      ]
    },
    {
      "cell_type": "code",
      "source": [
        "# Se lee un archivo CSV llamado \"products.csv\" y se carga en un DataFrame llamado 'products'.\n",
        "products = pd.read_csv(\"https://raw.githubusercontent.com/it-ces/Rules-puj/main/products.csv\")\n",
        "\n",
        "# Se imprime la cantidad de valores únicos en la columna 'product_name' del DataFrame.\n",
        "print(products['product_name'].unique().shape[0])\n",
        "\n",
        "# Se crea una nueva columna llamada 'changed' en el DataFrame 'products'.\n",
        "# Se utiliza el método 'replace' para reemplazar caracteres no alfanuméricos y no espacios con el carácter '~'.\n",
        "products['changed'] = products['product_name'].replace(to_replace=\"[^a-z\\dA-Z \\s+ ]\", value=\"~\", regex=True)\n",
        "\n",
        "# Se imprime la cantidad de valores únicos en la columna 'changed' del DataFrame.\n",
        "print(products['changed'].unique().shape[0])\n",
        "\n",
        "# Se muestran las primeras filas del DataFrame 'products' con la columna adicional 'changed'.\n",
        "products.head()\n"
      ],
      "metadata": {
        "id": "CfwOsTYCqKPl",
        "outputId": "5d3ec6f5-f223-403f-a207-b792b0fa1c66",
        "colab": {
          "base_uri": "https://localhost:8080/",
          "height": 241
        }
      },
      "execution_count": null,
      "outputs": [
        {
          "output_type": "stream",
          "name": "stdout",
          "text": [
            "49688\n",
            "49688\n"
          ]
        },
        {
          "output_type": "execute_result",
          "data": {
            "text/plain": [
              "   product_id                                       product_name  aisle_id  \\\n",
              "0           1                         Chocolate Sandwich Cookies        61   \n",
              "1           2                                   All-Seasons Salt       104   \n",
              "2           3               Robust Golden Unsweetened Oolong Tea        94   \n",
              "3           4  Smart Ones Classic Favorites Mini Rigatoni Wit...        38   \n",
              "4           5                          Green Chile Anytime Sauce         5   \n",
              "\n",
              "   department_id                                            changed  \n",
              "0             19                         Chocolate Sandwich Cookies  \n",
              "1             13                                   All~Seasons Salt  \n",
              "2              7               Robust Golden Unsweetened Oolong Tea  \n",
              "3              1  Smart Ones Classic Favorites Mini Rigatoni Wit...  \n",
              "4             13                          Green Chile Anytime Sauce  "
            ],
            "text/html": [
              "\n",
              "  <div id=\"df-3e343eca-6235-4008-ae95-529a52a6ae8f\" class=\"colab-df-container\">\n",
              "    <div>\n",
              "<style scoped>\n",
              "    .dataframe tbody tr th:only-of-type {\n",
              "        vertical-align: middle;\n",
              "    }\n",
              "\n",
              "    .dataframe tbody tr th {\n",
              "        vertical-align: top;\n",
              "    }\n",
              "\n",
              "    .dataframe thead th {\n",
              "        text-align: right;\n",
              "    }\n",
              "</style>\n",
              "<table border=\"1\" class=\"dataframe\">\n",
              "  <thead>\n",
              "    <tr style=\"text-align: right;\">\n",
              "      <th></th>\n",
              "      <th>product_id</th>\n",
              "      <th>product_name</th>\n",
              "      <th>aisle_id</th>\n",
              "      <th>department_id</th>\n",
              "      <th>changed</th>\n",
              "    </tr>\n",
              "  </thead>\n",
              "  <tbody>\n",
              "    <tr>\n",
              "      <th>0</th>\n",
              "      <td>1</td>\n",
              "      <td>Chocolate Sandwich Cookies</td>\n",
              "      <td>61</td>\n",
              "      <td>19</td>\n",
              "      <td>Chocolate Sandwich Cookies</td>\n",
              "    </tr>\n",
              "    <tr>\n",
              "      <th>1</th>\n",
              "      <td>2</td>\n",
              "      <td>All-Seasons Salt</td>\n",
              "      <td>104</td>\n",
              "      <td>13</td>\n",
              "      <td>All~Seasons Salt</td>\n",
              "    </tr>\n",
              "    <tr>\n",
              "      <th>2</th>\n",
              "      <td>3</td>\n",
              "      <td>Robust Golden Unsweetened Oolong Tea</td>\n",
              "      <td>94</td>\n",
              "      <td>7</td>\n",
              "      <td>Robust Golden Unsweetened Oolong Tea</td>\n",
              "    </tr>\n",
              "    <tr>\n",
              "      <th>3</th>\n",
              "      <td>4</td>\n",
              "      <td>Smart Ones Classic Favorites Mini Rigatoni Wit...</td>\n",
              "      <td>38</td>\n",
              "      <td>1</td>\n",
              "      <td>Smart Ones Classic Favorites Mini Rigatoni Wit...</td>\n",
              "    </tr>\n",
              "    <tr>\n",
              "      <th>4</th>\n",
              "      <td>5</td>\n",
              "      <td>Green Chile Anytime Sauce</td>\n",
              "      <td>5</td>\n",
              "      <td>13</td>\n",
              "      <td>Green Chile Anytime Sauce</td>\n",
              "    </tr>\n",
              "  </tbody>\n",
              "</table>\n",
              "</div>\n",
              "    <div class=\"colab-df-buttons\">\n",
              "\n",
              "  <div class=\"colab-df-container\">\n",
              "    <button class=\"colab-df-convert\" onclick=\"convertToInteractive('df-3e343eca-6235-4008-ae95-529a52a6ae8f')\"\n",
              "            title=\"Convert this dataframe to an interactive table.\"\n",
              "            style=\"display:none;\">\n",
              "\n",
              "  <svg xmlns=\"http://www.w3.org/2000/svg\" height=\"24px\" viewBox=\"0 -960 960 960\">\n",
              "    <path d=\"M120-120v-720h720v720H120Zm60-500h600v-160H180v160Zm220 220h160v-160H400v160Zm0 220h160v-160H400v160ZM180-400h160v-160H180v160Zm440 0h160v-160H620v160ZM180-180h160v-160H180v160Zm440 0h160v-160H620v160Z\"/>\n",
              "  </svg>\n",
              "    </button>\n",
              "\n",
              "  <style>\n",
              "    .colab-df-container {\n",
              "      display:flex;\n",
              "      gap: 12px;\n",
              "    }\n",
              "\n",
              "    .colab-df-convert {\n",
              "      background-color: #E8F0FE;\n",
              "      border: none;\n",
              "      border-radius: 50%;\n",
              "      cursor: pointer;\n",
              "      display: none;\n",
              "      fill: #1967D2;\n",
              "      height: 32px;\n",
              "      padding: 0 0 0 0;\n",
              "      width: 32px;\n",
              "    }\n",
              "\n",
              "    .colab-df-convert:hover {\n",
              "      background-color: #E2EBFA;\n",
              "      box-shadow: 0px 1px 2px rgba(60, 64, 67, 0.3), 0px 1px 3px 1px rgba(60, 64, 67, 0.15);\n",
              "      fill: #174EA6;\n",
              "    }\n",
              "\n",
              "    .colab-df-buttons div {\n",
              "      margin-bottom: 4px;\n",
              "    }\n",
              "\n",
              "    [theme=dark] .colab-df-convert {\n",
              "      background-color: #3B4455;\n",
              "      fill: #D2E3FC;\n",
              "    }\n",
              "\n",
              "    [theme=dark] .colab-df-convert:hover {\n",
              "      background-color: #434B5C;\n",
              "      box-shadow: 0px 1px 3px 1px rgba(0, 0, 0, 0.15);\n",
              "      filter: drop-shadow(0px 1px 2px rgba(0, 0, 0, 0.3));\n",
              "      fill: #FFFFFF;\n",
              "    }\n",
              "  </style>\n",
              "\n",
              "    <script>\n",
              "      const buttonEl =\n",
              "        document.querySelector('#df-3e343eca-6235-4008-ae95-529a52a6ae8f button.colab-df-convert');\n",
              "      buttonEl.style.display =\n",
              "        google.colab.kernel.accessAllowed ? 'block' : 'none';\n",
              "\n",
              "      async function convertToInteractive(key) {\n",
              "        const element = document.querySelector('#df-3e343eca-6235-4008-ae95-529a52a6ae8f');\n",
              "        const dataTable =\n",
              "          await google.colab.kernel.invokeFunction('convertToInteractive',\n",
              "                                                    [key], {});\n",
              "        if (!dataTable) return;\n",
              "\n",
              "        const docLinkHtml = 'Like what you see? Visit the ' +\n",
              "          '<a target=\"_blank\" href=https://colab.research.google.com/notebooks/data_table.ipynb>data table notebook</a>'\n",
              "          + ' to learn more about interactive tables.';\n",
              "        element.innerHTML = '';\n",
              "        dataTable['output_type'] = 'display_data';\n",
              "        await google.colab.output.renderOutput(dataTable, element);\n",
              "        const docLink = document.createElement('div');\n",
              "        docLink.innerHTML = docLinkHtml;\n",
              "        element.appendChild(docLink);\n",
              "      }\n",
              "    </script>\n",
              "  </div>\n",
              "\n",
              "\n",
              "<div id=\"df-0a7a5ce6-3810-4fd0-9586-6980c107943c\">\n",
              "  <button class=\"colab-df-quickchart\" onclick=\"quickchart('df-0a7a5ce6-3810-4fd0-9586-6980c107943c')\"\n",
              "            title=\"Suggest charts.\"\n",
              "            style=\"display:none;\">\n",
              "\n",
              "<svg xmlns=\"http://www.w3.org/2000/svg\" height=\"24px\"viewBox=\"0 0 24 24\"\n",
              "     width=\"24px\">\n",
              "    <g>\n",
              "        <path d=\"M19 3H5c-1.1 0-2 .9-2 2v14c0 1.1.9 2 2 2h14c1.1 0 2-.9 2-2V5c0-1.1-.9-2-2-2zM9 17H7v-7h2v7zm4 0h-2V7h2v10zm4 0h-2v-4h2v4z\"/>\n",
              "    </g>\n",
              "</svg>\n",
              "  </button>\n",
              "\n",
              "<style>\n",
              "  .colab-df-quickchart {\n",
              "    background-color: #E8F0FE;\n",
              "    border: none;\n",
              "    border-radius: 50%;\n",
              "    cursor: pointer;\n",
              "    display: none;\n",
              "    fill: #1967D2;\n",
              "    height: 32px;\n",
              "    padding: 0 0 0 0;\n",
              "    width: 32px;\n",
              "  }\n",
              "\n",
              "  .colab-df-quickchart:hover {\n",
              "    background-color: #E2EBFA;\n",
              "    box-shadow: 0px 1px 2px rgba(60, 64, 67, 0.3), 0px 1px 3px 1px rgba(60, 64, 67, 0.15);\n",
              "    fill: #174EA6;\n",
              "  }\n",
              "\n",
              "  [theme=dark] .colab-df-quickchart {\n",
              "    background-color: #3B4455;\n",
              "    fill: #D2E3FC;\n",
              "  }\n",
              "\n",
              "  [theme=dark] .colab-df-quickchart:hover {\n",
              "    background-color: #434B5C;\n",
              "    box-shadow: 0px 1px 3px 1px rgba(0, 0, 0, 0.15);\n",
              "    filter: drop-shadow(0px 1px 2px rgba(0, 0, 0, 0.3));\n",
              "    fill: #FFFFFF;\n",
              "  }\n",
              "</style>\n",
              "\n",
              "  <script>\n",
              "    async function quickchart(key) {\n",
              "      const charts = await google.colab.kernel.invokeFunction(\n",
              "          'suggestCharts', [key], {});\n",
              "    }\n",
              "    (() => {\n",
              "      let quickchartButtonEl =\n",
              "        document.querySelector('#df-0a7a5ce6-3810-4fd0-9586-6980c107943c button');\n",
              "      quickchartButtonEl.style.display =\n",
              "        google.colab.kernel.accessAllowed ? 'block' : 'none';\n",
              "    })();\n",
              "  </script>\n",
              "</div>\n",
              "    </div>\n",
              "  </div>\n"
            ]
          },
          "metadata": {},
          "execution_count": 46
        }
      ]
    },
    {
      "cell_type": "code",
      "source": [
        "# Se define una cadena vacía llamada 'chain' para almacenar caracteres.\n",
        "chain = ''\n",
        "\n",
        "# Se itera a través de los caracteres obtenidos de la función 'idenChars' con respecto a la columna 'product_name' del DataFrame 'products'.\n",
        "for chars in idenChars('product_name', products):\n",
        "    # Se agrega cada carácter a la cadena 'chain'.\n",
        "    chain = chain + chars\n",
        "\n",
        "# Al finalizar el bucle, la cadena 'chain' contendrá todos los caracteres obtenidos de la iteración.\n",
        "chain\n"
      ],
      "metadata": {
        "id": "wafTiDd8qKM8",
        "outputId": "e1e112b9-c654-4bf7-918d-034911072757",
        "colab": {
          "base_uri": "https://localhost:8080/",
          "height": 35
        }
      },
      "execution_count": null,
      "outputs": [
        {
          "output_type": "execute_result",
          "data": {
            "text/plain": [
              "' -\\'&®,/%\\\\\"!.é()+;í™:ó=èñ°‑#–*û$\\xa0ç’е@á?˚´úüâ�”ô`\\x8f{}'"
            ],
            "application/vnd.google.colaboratory.intrinsic+json": {
              "type": "string"
            }
          },
          "metadata": {},
          "execution_count": 49
        }
      ]
    },
    {
      "cell_type": "code",
      "source": [
        "products"
      ],
      "metadata": {
        "id": "Zki1i1TaqKJ_",
        "outputId": "8f595e6e-575d-452e-fe1a-3e83e5cc4bbf",
        "colab": {
          "base_uri": "https://localhost:8080/",
          "height": 423
        }
      },
      "execution_count": null,
      "outputs": [
        {
          "output_type": "execute_result",
          "data": {
            "text/plain": [
              "       product_id                                       product_name  \\\n",
              "0               1                         Chocolate Sandwich Cookies   \n",
              "1               2                                   All-Seasons Salt   \n",
              "2               3               Robust Golden Unsweetened Oolong Tea   \n",
              "3               4  Smart Ones Classic Favorites Mini Rigatoni Wit...   \n",
              "4               5                          Green Chile Anytime Sauce   \n",
              "...           ...                                                ...   \n",
              "49683       49684          Vodka, Triple Distilled, Twist of Vanilla   \n",
              "49684       49685                 En Croute Roast Hazelnut Cranberry   \n",
              "49685       49686                                   Artisan Baguette   \n",
              "49686       49687         Smartblend Healthy Metabolism Dry Cat Food   \n",
              "49687       49688                             Fresh Foaming Cleanser   \n",
              "\n",
              "       aisle_id  department_id  \\\n",
              "0            61             19   \n",
              "1           104             13   \n",
              "2            94              7   \n",
              "3            38              1   \n",
              "4             5             13   \n",
              "...         ...            ...   \n",
              "49683       124              5   \n",
              "49684        42              1   \n",
              "49685       112              3   \n",
              "49686        41              8   \n",
              "49687        73             11   \n",
              "\n",
              "                                                 changed  \n",
              "0                             Chocolate Sandwich Cookies  \n",
              "1                                       All~Seasons Salt  \n",
              "2                   Robust Golden Unsweetened Oolong Tea  \n",
              "3      Smart Ones Classic Favorites Mini Rigatoni Wit...  \n",
              "4                              Green Chile Anytime Sauce  \n",
              "...                                                  ...  \n",
              "49683          Vodka~ Triple Distilled~ Twist of Vanilla  \n",
              "49684                 En Croute Roast Hazelnut Cranberry  \n",
              "49685                                   Artisan Baguette  \n",
              "49686         Smartblend Healthy Metabolism Dry Cat Food  \n",
              "49687                             Fresh Foaming Cleanser  \n",
              "\n",
              "[49688 rows x 5 columns]"
            ],
            "text/html": [
              "\n",
              "  <div id=\"df-b73e5ea1-728b-4928-8574-94e1a968aaba\" class=\"colab-df-container\">\n",
              "    <div>\n",
              "<style scoped>\n",
              "    .dataframe tbody tr th:only-of-type {\n",
              "        vertical-align: middle;\n",
              "    }\n",
              "\n",
              "    .dataframe tbody tr th {\n",
              "        vertical-align: top;\n",
              "    }\n",
              "\n",
              "    .dataframe thead th {\n",
              "        text-align: right;\n",
              "    }\n",
              "</style>\n",
              "<table border=\"1\" class=\"dataframe\">\n",
              "  <thead>\n",
              "    <tr style=\"text-align: right;\">\n",
              "      <th></th>\n",
              "      <th>product_id</th>\n",
              "      <th>product_name</th>\n",
              "      <th>aisle_id</th>\n",
              "      <th>department_id</th>\n",
              "      <th>changed</th>\n",
              "    </tr>\n",
              "  </thead>\n",
              "  <tbody>\n",
              "    <tr>\n",
              "      <th>0</th>\n",
              "      <td>1</td>\n",
              "      <td>Chocolate Sandwich Cookies</td>\n",
              "      <td>61</td>\n",
              "      <td>19</td>\n",
              "      <td>Chocolate Sandwich Cookies</td>\n",
              "    </tr>\n",
              "    <tr>\n",
              "      <th>1</th>\n",
              "      <td>2</td>\n",
              "      <td>All-Seasons Salt</td>\n",
              "      <td>104</td>\n",
              "      <td>13</td>\n",
              "      <td>All~Seasons Salt</td>\n",
              "    </tr>\n",
              "    <tr>\n",
              "      <th>2</th>\n",
              "      <td>3</td>\n",
              "      <td>Robust Golden Unsweetened Oolong Tea</td>\n",
              "      <td>94</td>\n",
              "      <td>7</td>\n",
              "      <td>Robust Golden Unsweetened Oolong Tea</td>\n",
              "    </tr>\n",
              "    <tr>\n",
              "      <th>3</th>\n",
              "      <td>4</td>\n",
              "      <td>Smart Ones Classic Favorites Mini Rigatoni Wit...</td>\n",
              "      <td>38</td>\n",
              "      <td>1</td>\n",
              "      <td>Smart Ones Classic Favorites Mini Rigatoni Wit...</td>\n",
              "    </tr>\n",
              "    <tr>\n",
              "      <th>4</th>\n",
              "      <td>5</td>\n",
              "      <td>Green Chile Anytime Sauce</td>\n",
              "      <td>5</td>\n",
              "      <td>13</td>\n",
              "      <td>Green Chile Anytime Sauce</td>\n",
              "    </tr>\n",
              "    <tr>\n",
              "      <th>...</th>\n",
              "      <td>...</td>\n",
              "      <td>...</td>\n",
              "      <td>...</td>\n",
              "      <td>...</td>\n",
              "      <td>...</td>\n",
              "    </tr>\n",
              "    <tr>\n",
              "      <th>49683</th>\n",
              "      <td>49684</td>\n",
              "      <td>Vodka, Triple Distilled, Twist of Vanilla</td>\n",
              "      <td>124</td>\n",
              "      <td>5</td>\n",
              "      <td>Vodka~ Triple Distilled~ Twist of Vanilla</td>\n",
              "    </tr>\n",
              "    <tr>\n",
              "      <th>49684</th>\n",
              "      <td>49685</td>\n",
              "      <td>En Croute Roast Hazelnut Cranberry</td>\n",
              "      <td>42</td>\n",
              "      <td>1</td>\n",
              "      <td>En Croute Roast Hazelnut Cranberry</td>\n",
              "    </tr>\n",
              "    <tr>\n",
              "      <th>49685</th>\n",
              "      <td>49686</td>\n",
              "      <td>Artisan Baguette</td>\n",
              "      <td>112</td>\n",
              "      <td>3</td>\n",
              "      <td>Artisan Baguette</td>\n",
              "    </tr>\n",
              "    <tr>\n",
              "      <th>49686</th>\n",
              "      <td>49687</td>\n",
              "      <td>Smartblend Healthy Metabolism Dry Cat Food</td>\n",
              "      <td>41</td>\n",
              "      <td>8</td>\n",
              "      <td>Smartblend Healthy Metabolism Dry Cat Food</td>\n",
              "    </tr>\n",
              "    <tr>\n",
              "      <th>49687</th>\n",
              "      <td>49688</td>\n",
              "      <td>Fresh Foaming Cleanser</td>\n",
              "      <td>73</td>\n",
              "      <td>11</td>\n",
              "      <td>Fresh Foaming Cleanser</td>\n",
              "    </tr>\n",
              "  </tbody>\n",
              "</table>\n",
              "<p>49688 rows × 5 columns</p>\n",
              "</div>\n",
              "    <div class=\"colab-df-buttons\">\n",
              "\n",
              "  <div class=\"colab-df-container\">\n",
              "    <button class=\"colab-df-convert\" onclick=\"convertToInteractive('df-b73e5ea1-728b-4928-8574-94e1a968aaba')\"\n",
              "            title=\"Convert this dataframe to an interactive table.\"\n",
              "            style=\"display:none;\">\n",
              "\n",
              "  <svg xmlns=\"http://www.w3.org/2000/svg\" height=\"24px\" viewBox=\"0 -960 960 960\">\n",
              "    <path d=\"M120-120v-720h720v720H120Zm60-500h600v-160H180v160Zm220 220h160v-160H400v160Zm0 220h160v-160H400v160ZM180-400h160v-160H180v160Zm440 0h160v-160H620v160ZM180-180h160v-160H180v160Zm440 0h160v-160H620v160Z\"/>\n",
              "  </svg>\n",
              "    </button>\n",
              "\n",
              "  <style>\n",
              "    .colab-df-container {\n",
              "      display:flex;\n",
              "      gap: 12px;\n",
              "    }\n",
              "\n",
              "    .colab-df-convert {\n",
              "      background-color: #E8F0FE;\n",
              "      border: none;\n",
              "      border-radius: 50%;\n",
              "      cursor: pointer;\n",
              "      display: none;\n",
              "      fill: #1967D2;\n",
              "      height: 32px;\n",
              "      padding: 0 0 0 0;\n",
              "      width: 32px;\n",
              "    }\n",
              "\n",
              "    .colab-df-convert:hover {\n",
              "      background-color: #E2EBFA;\n",
              "      box-shadow: 0px 1px 2px rgba(60, 64, 67, 0.3), 0px 1px 3px 1px rgba(60, 64, 67, 0.15);\n",
              "      fill: #174EA6;\n",
              "    }\n",
              "\n",
              "    .colab-df-buttons div {\n",
              "      margin-bottom: 4px;\n",
              "    }\n",
              "\n",
              "    [theme=dark] .colab-df-convert {\n",
              "      background-color: #3B4455;\n",
              "      fill: #D2E3FC;\n",
              "    }\n",
              "\n",
              "    [theme=dark] .colab-df-convert:hover {\n",
              "      background-color: #434B5C;\n",
              "      box-shadow: 0px 1px 3px 1px rgba(0, 0, 0, 0.15);\n",
              "      filter: drop-shadow(0px 1px 2px rgba(0, 0, 0, 0.3));\n",
              "      fill: #FFFFFF;\n",
              "    }\n",
              "  </style>\n",
              "\n",
              "    <script>\n",
              "      const buttonEl =\n",
              "        document.querySelector('#df-b73e5ea1-728b-4928-8574-94e1a968aaba button.colab-df-convert');\n",
              "      buttonEl.style.display =\n",
              "        google.colab.kernel.accessAllowed ? 'block' : 'none';\n",
              "\n",
              "      async function convertToInteractive(key) {\n",
              "        const element = document.querySelector('#df-b73e5ea1-728b-4928-8574-94e1a968aaba');\n",
              "        const dataTable =\n",
              "          await google.colab.kernel.invokeFunction('convertToInteractive',\n",
              "                                                    [key], {});\n",
              "        if (!dataTable) return;\n",
              "\n",
              "        const docLinkHtml = 'Like what you see? Visit the ' +\n",
              "          '<a target=\"_blank\" href=https://colab.research.google.com/notebooks/data_table.ipynb>data table notebook</a>'\n",
              "          + ' to learn more about interactive tables.';\n",
              "        element.innerHTML = '';\n",
              "        dataTable['output_type'] = 'display_data';\n",
              "        await google.colab.output.renderOutput(dataTable, element);\n",
              "        const docLink = document.createElement('div');\n",
              "        docLink.innerHTML = docLinkHtml;\n",
              "        element.appendChild(docLink);\n",
              "      }\n",
              "    </script>\n",
              "  </div>\n",
              "\n",
              "\n",
              "<div id=\"df-101fd53c-72c8-4763-88b1-bf33bd7c7317\">\n",
              "  <button class=\"colab-df-quickchart\" onclick=\"quickchart('df-101fd53c-72c8-4763-88b1-bf33bd7c7317')\"\n",
              "            title=\"Suggest charts.\"\n",
              "            style=\"display:none;\">\n",
              "\n",
              "<svg xmlns=\"http://www.w3.org/2000/svg\" height=\"24px\"viewBox=\"0 0 24 24\"\n",
              "     width=\"24px\">\n",
              "    <g>\n",
              "        <path d=\"M19 3H5c-1.1 0-2 .9-2 2v14c0 1.1.9 2 2 2h14c1.1 0 2-.9 2-2V5c0-1.1-.9-2-2-2zM9 17H7v-7h2v7zm4 0h-2V7h2v10zm4 0h-2v-4h2v4z\"/>\n",
              "    </g>\n",
              "</svg>\n",
              "  </button>\n",
              "\n",
              "<style>\n",
              "  .colab-df-quickchart {\n",
              "    background-color: #E8F0FE;\n",
              "    border: none;\n",
              "    border-radius: 50%;\n",
              "    cursor: pointer;\n",
              "    display: none;\n",
              "    fill: #1967D2;\n",
              "    height: 32px;\n",
              "    padding: 0 0 0 0;\n",
              "    width: 32px;\n",
              "  }\n",
              "\n",
              "  .colab-df-quickchart:hover {\n",
              "    background-color: #E2EBFA;\n",
              "    box-shadow: 0px 1px 2px rgba(60, 64, 67, 0.3), 0px 1px 3px 1px rgba(60, 64, 67, 0.15);\n",
              "    fill: #174EA6;\n",
              "  }\n",
              "\n",
              "  [theme=dark] .colab-df-quickchart {\n",
              "    background-color: #3B4455;\n",
              "    fill: #D2E3FC;\n",
              "  }\n",
              "\n",
              "  [theme=dark] .colab-df-quickchart:hover {\n",
              "    background-color: #434B5C;\n",
              "    box-shadow: 0px 1px 3px 1px rgba(0, 0, 0, 0.15);\n",
              "    filter: drop-shadow(0px 1px 2px rgba(0, 0, 0, 0.3));\n",
              "    fill: #FFFFFF;\n",
              "  }\n",
              "</style>\n",
              "\n",
              "  <script>\n",
              "    async function quickchart(key) {\n",
              "      const charts = await google.colab.kernel.invokeFunction(\n",
              "          'suggestCharts', [key], {});\n",
              "    }\n",
              "    (() => {\n",
              "      let quickchartButtonEl =\n",
              "        document.querySelector('#df-101fd53c-72c8-4763-88b1-bf33bd7c7317 button');\n",
              "      quickchartButtonEl.style.display =\n",
              "        google.colab.kernel.accessAllowed ? 'block' : 'none';\n",
              "    })();\n",
              "  </script>\n",
              "</div>\n",
              "    </div>\n",
              "  </div>\n"
            ]
          },
          "metadata": {},
          "execution_count": 50
        }
      ]
    },
    {
      "cell_type": "code",
      "source": [
        "# Se utiliza la línea de comando 'pip install rapidfuzz' para instalar el paquete 'rapidfuzz'.\n",
        "# Esto permitirá que el paquete 'rapidfuzz' esté disponible en el entorno de Python para su uso posterior.\n",
        "!pip install rapidfuzz\n"
      ],
      "metadata": {
        "id": "l4WtPJm8qKD6",
        "outputId": "475d6505-11c3-4991-ad8b-24f97560a487",
        "colab": {
          "base_uri": "https://localhost:8080/"
        }
      },
      "execution_count": null,
      "outputs": [
        {
          "output_type": "stream",
          "name": "stdout",
          "text": [
            "Requirement already satisfied: rapidfuzz in /usr/local/lib/python3.10/dist-packages (3.2.0)\n"
          ]
        }
      ]
    },
    {
      "cell_type": "code",
      "source": [
        "from rapidfuzz import process, fuzz\n",
        "df = pd.DataFrame(['wijk 00 book', 'Wijk a', 'test'], columns=['col1'])\n",
        "search_str = 'book'\n",
        "most_similar = process.extractOne(search_str, df['col1'], scorer=fuzz.WRatio)\n",
        "most_similar"
      ],
      "metadata": {
        "id": "nvl18vCPrPG6",
        "outputId": "791f92be-d8ef-43c2-ee4d-f0f18d9c8f15",
        "colab": {
          "base_uri": "https://localhost:8080/"
        }
      },
      "execution_count": null,
      "outputs": [
        {
          "output_type": "execute_result",
          "data": {
            "text/plain": [
              "('wijk 00 book', 90.0, 0)"
            ]
          },
          "metadata": {},
          "execution_count": 53
        }
      ]
    },
    {
      "cell_type": "code",
      "source": [
        "data = pd.DataFrame({'products':['mang,`o12!', 'papay41!qa', 'frutao_.__.\\nh', '1,a3,5;']})"
      ],
      "metadata": {
        "id": "3oBv0zrLrPEz"
      },
      "execution_count": null,
      "outputs": []
    },
    {
      "cell_type": "code",
      "source": [
        "# Comentarios sobre la captura de caracteres no alfanuméricos en una cadena.\n",
        "\n",
        "# Se define una cadena llamada 'string' que contiene caracteres alfanuméricos y no alfanuméricos.\n",
        "string = 'asasd//nasdn4(/`nasd~~~nasd)'\n",
        "\n",
        "# Se define una expresión regular llamada 'rey_occurences' para encontrar caracteres no alfanuméricos.\n",
        "rey_occurences = \"[^a-z\\d]\"\n",
        "\n",
        "# Se utiliza la función 're.findall()' para encontrar todos los caracteres no alfanuméricos en la cadena 'string'\n",
        "# que coincidan con la expresión regular 'rey_occurences'.\n",
        "re.findall(rey_occurences, string)\n"
      ],
      "metadata": {
        "id": "_Oxv4oy2rPCH",
        "outputId": "55a99dc3-b72d-4a57-ddcb-30cb31547204",
        "colab": {
          "base_uri": "https://localhost:8080/"
        }
      },
      "execution_count": null,
      "outputs": [
        {
          "output_type": "execute_result",
          "data": {
            "text/plain": [
              "['/', '/', '(', '/', '`', '~', '~', '~', ')']"
            ]
          },
          "metadata": {},
          "execution_count": 55
        }
      ]
    },
    {
      "cell_type": "code",
      "source": [
        "def idenChars(col_name, data):\n",
        "    pattern_regex = \"[^a-zA-Z\\d]\"\n",
        "    uniques = []\n",
        "    for index in data.index:\n",
        "        for char in  re.findall(pattern_regex, data.loc[index,col_name]):\n",
        "            if char not in uniques:\n",
        "                uniques.append(char)\n",
        "    return uniques"
      ],
      "metadata": {
        "id": "oor2Ne2grO_o"
      },
      "execution_count": null,
      "outputs": []
    },
    {
      "cell_type": "code",
      "source": [
        "# Comentarios sobre la captura de caracteres no alfanuméricos y no espacios en una cadena.\n",
        "\n",
        "# Se define una cadena llamada 'string' que contiene caracteres alfanuméricos, espacios y caracteres no alfanuméricos.\n",
        "string = 'asasd//nasdn4(/`nasd~~~ * *nasd )  asdasd '\n",
        "\n",
        "# Se define una expresión regular llamada 'rey_occurences' para encontrar caracteres no alfanuméricos y no espacios.\n",
        "rey_occurences = \"[^a-z\\d *]\"\n",
        "\n",
        "# Se utiliza la función 're.findall()' para encontrar todos los caracteres no alfanuméricos y no espacios en la cadena 'string'\n",
        "# que coincidan con la expresión regular 'rey_occurences'.\n",
        "re.findall(rey_occurences, string)\n"
      ],
      "metadata": {
        "id": "JwDYw0darO8d",
        "outputId": "320063e9-d00c-4f72-8418-077ab29f823c",
        "colab": {
          "base_uri": "https://localhost:8080/"
        }
      },
      "execution_count": null,
      "outputs": [
        {
          "output_type": "execute_result",
          "data": {
            "text/plain": [
              "['/', '/', '(', '/', '`', '~', '~', '~', ')']"
            ]
          },
          "metadata": {},
          "execution_count": 57
        }
      ]
    }
  ]
}