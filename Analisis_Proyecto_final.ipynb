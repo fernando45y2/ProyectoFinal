{
  "nbformat": 4,
  "nbformat_minor": 0,
  "metadata": {
    "colab": {
      "provenance": [],
      "authorship_tag": "ABX9TyNWt/bV9U8ks0MpVYCm9bUM",
      "include_colab_link": true
    },
    "kernelspec": {
      "name": "python3",
      "display_name": "Python 3"
    },
    "language_info": {
      "name": "python"
    }
  },
  "cells": [
    {
      "cell_type": "markdown",
      "metadata": {
        "id": "view-in-github",
        "colab_type": "text"
      },
      "source": [
        "<a href=\"https://colab.research.google.com/github/fernando45y2/ProyectoFinal/blob/main/Analisis_Proyecto_final.ipynb\" target=\"_parent\"><img src=\"https://colab.research.google.com/assets/colab-badge.svg\" alt=\"Open In Colab\"/></a>"
      ]
    },
    {
      "cell_type": "code",
      "execution_count": 1,
      "metadata": {
        "id": "yWRwTWjc-0ra"
      },
      "outputs": [],
      "source": [
        "import re\n",
        "import pandas as pd"
      ]
    },
    {
      "cell_type": "code",
      "source": [
        "products = pd.read_csv(\"https://raw.githubusercontent.com/it-ces/Rules-puj/main/products.csv\")\n",
        "\n",
        "#Se crea un campo nuevo y al campo product_name se le realiza un replace\n",
        "products['product_name'] = products['product_name'].replace(to_replace=\"[^a-z\\dA-Z \\s+ ]\", value=\"~\", regex=True)\n",
        "#verificamos que este limpio el campos product_name de acuerdo a el replace que hicimos anteriormente\n",
        "products['product_name']\n",
        "\n",
        "#llamamos la base de datos order_products_train\n",
        "order_products_train = pd.read_csv(\"https://raw.githubusercontent.com/it-ces/Rules-puj/main/order_products__train.csv\")\n",
        "\n",
        "#en la varible full se guarda la relacion de las dos tablas\n",
        "full = order_products_train.merge(products, on='product_id',how='outer', indicator=True)\n",
        "full\n",
        "\n",
        "# se restablecer el índice del campo _merge cuando sea igaul a  both\n",
        "full =full[full['_merge']=='both'].reset_index(drop=True)\n",
        "\n",
        "#organiza el campo order_id en orden ascendente\n",
        "full =full.sort_values('order_id')\n",
        "full\n",
        "#consulta un registro sobre la tabla full solo obteniendo el la factura 1.0\n",
        "order1 = full[full['order_id'] == 1.0]\n",
        "order1\n",
        "\n",
        "#Se crea un varibale transactions donde nos trae el numero de factura y los productos asociados a cada factura\n",
        "transactions ={}\n",
        "for iden in full['order_id'].unique():\n",
        "    transactions[iden]=[]\n",
        "for index in full.index:\n",
        "    transactions[full.loc[index,'order_id']].append(full.loc[index,'product_name'])\n",
        "\n",
        "data = []\n",
        "for t in transactions:\n",
        "    data.append(transactions[t])\n",
        "\n",
        "\n",
        "#Genera un informe de la data trasformada en un archivo delimitado por coma csv\n",
        "with open('TransactionsInstacart.csv','w') as f:\n",
        "    for transaction in data:\n",
        "        for item in transaction:\n",
        "            f.write(str(item) + ',')\n",
        "        f.write('\\n')\n",
        "\n"
      ],
      "metadata": {
        "id": "fZuS3H3e_rO5"
      },
      "execution_count": 17,
      "outputs": []
    },
    {
      "cell_type": "code",
      "source": [],
      "metadata": {
        "id": "4aIvPfh3HVSd"
      },
      "execution_count": null,
      "outputs": []
    }
  ]
}